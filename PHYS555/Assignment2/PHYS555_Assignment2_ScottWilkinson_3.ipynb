{
 "cells": [
  {
   "cell_type": "markdown",
   "id": "630c40d1",
   "metadata": {},
   "source": [
    "# Assignment 2 - Scott Wilkinson (V00887986) "
   ]
  },
  {
   "cell_type": "markdown",
   "id": "7919e75c",
   "metadata": {},
   "source": [
    "## Q3: Finding Optimal p and k for KNN Regression using GridSearch"
   ]
  },
  {
   "cell_type": "markdown",
   "id": "f756fd55",
   "metadata": {},
   "source": [
    "A notebook which uses the GridSearch function to obtain an optimal p and k for a KNN regression model to predict the the concentration of the light profiles of real galaxies from the Canada France Imaging Survey based on their non-parametric morphology data."
   ]
  },
  {
   "cell_type": "markdown",
   "id": "e618fb80",
   "metadata": {},
   "source": [
    "First, we must import the necessary Python packages."
   ]
  },
  {
   "cell_type": "code",
   "execution_count": 1,
   "id": "f9196778",
   "metadata": {},
   "outputs": [],
   "source": [
    "# importing packages used in notebook\n",
    "import numpy as np\n",
    "import matplotlib.pyplot as plt\n",
    "import pymysql, os\n",
    "\n",
    "from sklearn.model_selection import train_test_split\n",
    "from sklearn.preprocessing import StandardScaler, MinMaxScaler\n",
    "from sklearn.neighbors import KNeighborsRegressor\n",
    "from sklearn.model_selection import GridSearchCV"
   ]
  },
  {
   "cell_type": "markdown",
   "id": "f5fb3649",
   "metadata": {},
   "source": [
    "## Importing Morphology Data"
   ]
  },
  {
   "cell_type": "code",
   "execution_count": 2,
   "id": "3508a67a",
   "metadata": {},
   "outputs": [
    {
     "name": "stdout",
     "output_type": "stream",
     "text": [
      "(5, 147063)\n",
      "(1, 147063)\n"
     ]
    }
   ],
   "source": [
    "#Query SQL for morphology data\n",
    "# connects to database\n",
    "db = pymysql.connect(host = 'lauca.phys.uvic.ca', db = 'sdss', user = 'swilkinson', passwd = '123Sdss!@#')\n",
    "x = 'SELECT  s.objID, asymmetry, shape_asymmetry, gini, m20, concentration, total_mass_med\\\n",
    "    FROM dr7_cfis_statmorph_newmask s, dr7_uberuber u\\\n",
    "    WHERE u.objID = s.objID\\\n",
    "    AND flag_morph = 0\\\n",
    "    AND asymmetry > -1\\\n",
    "    AND total_sfr_med>-5\\\n",
    "    AND total_mass_med > 7'\n",
    "c = db.cursor()\n",
    "c.execute(x)\n",
    "db_data = c.fetchall()\n",
    "c.close()\n",
    "db.close()\n",
    "\n",
    "# save names as a string\n",
    "names_morph = np.array(db_data, dtype = str).T[0]\n",
    "\n",
    "# save rest of data as floats\n",
    "morph = np.array(db_data, dtype = float).T[1:-1]\n",
    "\n",
    "sfr = np.array(db_data, dtype = float).T[-1:]\n",
    "\n",
    "print(morph.shape)\n",
    "print(sfr.shape)"
   ]
  },
  {
   "cell_type": "markdown",
   "id": "1c452914",
   "metadata": {},
   "source": [
    "## Normalizing that data"
   ]
  },
  {
   "cell_type": "code",
   "execution_count": 3,
   "id": "d253c87f",
   "metadata": {},
   "outputs": [],
   "source": [
    "#input_tr,input_va,target_tr, target_va = train_test_split(morph.T, sfr.T,test_size=0.25, shuffle = True)\n",
    "input_tr,input_va,target_tr, target_va = train_test_split(morph[:-1].T, morph[-1].T,test_size=0.25, shuffle = True)\n",
    "\n",
    "### normalizing inputs\n",
    "\n",
    "# fit on training set\n",
    "scaler = StandardScaler().fit(input_tr)  \n",
    "\n",
    "# normalize training\n",
    "input_tr_norm= scaler.transform(input_tr)\n",
    "\n",
    "# normalize validation with same scaler & fit\n",
    "input_va_norm= scaler.transform(input_va)"
   ]
  },
  {
   "cell_type": "markdown",
   "id": "a2806768",
   "metadata": {},
   "source": [
    "## Find optimal p and k using GridSearchCV"
   ]
  },
  {
   "cell_type": "markdown",
   "id": "25c0c00f",
   "metadata": {},
   "source": [
    "GridSearchCV is a function that loops tries all combinations from the list of parameters you provide it and selects the one that will produce the best results for your model and data. "
   ]
  },
  {
   "cell_type": "code",
   "execution_count": 4,
   "id": "ab9602d7",
   "metadata": {},
   "outputs": [
    {
     "name": "stderr",
     "output_type": "stream",
     "text": [
      "/usr/local/anaconda3/lib/python3.7/site-packages/sklearn/model_selection/_split.py:437: DeprecationWarning: `np.int` is a deprecated alias for the builtin `int`. To silence this warning, use `int` by itself. Doing this will not modify any behavior and is safe. When replacing `np.int`, you may wish to use e.g. `np.int64` or `np.int32` to specify the precision. If you wish to review your current use, check the release note link for additional information.\n",
      "Deprecated in NumPy 1.20; for more details and guidance: https://numpy.org/devdocs/release/1.20.0-notes.html#deprecations\n",
      "  fold_sizes = np.full(n_splits, n_samples // n_splits, dtype=np.int)\n",
      "/usr/local/anaconda3/lib/python3.7/site-packages/sklearn/model_selection/_split.py:113: DeprecationWarning: `np.bool` is a deprecated alias for the builtin `bool`. To silence this warning, use `bool` by itself. Doing this will not modify any behavior and is safe. If you specifically wanted the numpy scalar type, use `np.bool_` here.\n",
      "Deprecated in NumPy 1.20; for more details and guidance: https://numpy.org/devdocs/release/1.20.0-notes.html#deprecations\n",
      "  test_mask = np.zeros(_num_samples(X), dtype=np.bool)\n",
      "/usr/local/anaconda3/lib/python3.7/site-packages/sklearn/model_selection/_split.py:113: DeprecationWarning: `np.bool` is a deprecated alias for the builtin `bool`. To silence this warning, use `bool` by itself. Doing this will not modify any behavior and is safe. If you specifically wanted the numpy scalar type, use `np.bool_` here.\n",
      "Deprecated in NumPy 1.20; for more details and guidance: https://numpy.org/devdocs/release/1.20.0-notes.html#deprecations\n",
      "  test_mask = np.zeros(_num_samples(X), dtype=np.bool)\n",
      "/usr/local/anaconda3/lib/python3.7/site-packages/sklearn/model_selection/_split.py:113: DeprecationWarning: `np.bool` is a deprecated alias for the builtin `bool`. To silence this warning, use `bool` by itself. Doing this will not modify any behavior and is safe. If you specifically wanted the numpy scalar type, use `np.bool_` here.\n",
      "Deprecated in NumPy 1.20; for more details and guidance: https://numpy.org/devdocs/release/1.20.0-notes.html#deprecations\n",
      "  test_mask = np.zeros(_num_samples(X), dtype=np.bool)\n",
      "/usr/local/anaconda3/lib/python3.7/site-packages/sklearn/model_selection/_split.py:113: DeprecationWarning: `np.bool` is a deprecated alias for the builtin `bool`. To silence this warning, use `bool` by itself. Doing this will not modify any behavior and is safe. If you specifically wanted the numpy scalar type, use `np.bool_` here.\n",
      "Deprecated in NumPy 1.20; for more details and guidance: https://numpy.org/devdocs/release/1.20.0-notes.html#deprecations\n",
      "  test_mask = np.zeros(_num_samples(X), dtype=np.bool)\n",
      "/usr/local/anaconda3/lib/python3.7/site-packages/sklearn/model_selection/_split.py:113: DeprecationWarning: `np.bool` is a deprecated alias for the builtin `bool`. To silence this warning, use `bool` by itself. Doing this will not modify any behavior and is safe. If you specifically wanted the numpy scalar type, use `np.bool_` here.\n",
      "Deprecated in NumPy 1.20; for more details and guidance: https://numpy.org/devdocs/release/1.20.0-notes.html#deprecations\n",
      "  test_mask = np.zeros(_num_samples(X), dtype=np.bool)\n"
     ]
    },
    {
     "name": "stdout",
     "output_type": "stream",
     "text": [
      "{'n_neighbors': 50, 'p': 2}\n",
      "0.8926060914578967\n"
     ]
    },
    {
     "name": "stderr",
     "output_type": "stream",
     "text": [
      "/usr/local/anaconda3/lib/python3.7/site-packages/sklearn/model_selection/_search.py:821: DeprecationWarning: `np.int` is a deprecated alias for the builtin `int`. To silence this warning, use `int` by itself. Doing this will not modify any behavior and is safe. When replacing `np.int`, you may wish to use e.g. `np.int64` or `np.int32` to specify the precision. If you wish to review your current use, check the release note link for additional information.\n",
      "Deprecated in NumPy 1.20; for more details and guidance: https://numpy.org/devdocs/release/1.20.0-notes.html#deprecations\n",
      "  dtype=np.int)\n"
     ]
    }
   ],
   "source": [
    "# list of k's to try; large range and somewhat coarse \n",
    "K = [1,2,3,4,5,6,7,8,9,10,11,12,13,14,15,16,17,18,19,20,\\\n",
    "    21,22,23,24,25,30,35,40,45,50,55,60,75,100,200]\n",
    "\n",
    "# list of types of regularization to test\n",
    "P = [1,2]\n",
    "\n",
    "param_grid = [{\"n_neighbors\": K, \"p\":P}]\n",
    "\n",
    "KNN = KNeighborsRegressor()\n",
    "\n",
    "gs = GridSearchCV(KNN, param_grid, cv = 5)\n",
    "\n",
    "gs.fit(input_tr_norm, target_tr)\n",
    "\n",
    "print(gs.best_params_)\n",
    "print(gs.best_score_)"
   ]
  },
  {
   "cell_type": "markdown",
   "id": "88871736",
   "metadata": {},
   "source": [
    "As found using the GridSearchCV function, the optimal k was 50 and optimal p was 2. In the previous assignment, I manually identified k = 25 and p = 2 to be the optimal values but was severely limited by computation time and the method."
   ]
  },
  {
   "cell_type": "markdown",
   "id": "74961962",
   "metadata": {},
   "source": [
    "Now I test on a more fine tuned list of k-values near the optimal value found previously."
   ]
  },
  {
   "cell_type": "code",
   "execution_count": 5,
   "id": "593caddd",
   "metadata": {},
   "outputs": [
    {
     "name": "stderr",
     "output_type": "stream",
     "text": [
      "/usr/local/anaconda3/lib/python3.7/site-packages/sklearn/model_selection/_split.py:437: DeprecationWarning: `np.int` is a deprecated alias for the builtin `int`. To silence this warning, use `int` by itself. Doing this will not modify any behavior and is safe. When replacing `np.int`, you may wish to use e.g. `np.int64` or `np.int32` to specify the precision. If you wish to review your current use, check the release note link for additional information.\n",
      "Deprecated in NumPy 1.20; for more details and guidance: https://numpy.org/devdocs/release/1.20.0-notes.html#deprecations\n",
      "  fold_sizes = np.full(n_splits, n_samples // n_splits, dtype=np.int)\n",
      "/usr/local/anaconda3/lib/python3.7/site-packages/sklearn/model_selection/_split.py:113: DeprecationWarning: `np.bool` is a deprecated alias for the builtin `bool`. To silence this warning, use `bool` by itself. Doing this will not modify any behavior and is safe. If you specifically wanted the numpy scalar type, use `np.bool_` here.\n",
      "Deprecated in NumPy 1.20; for more details and guidance: https://numpy.org/devdocs/release/1.20.0-notes.html#deprecations\n",
      "  test_mask = np.zeros(_num_samples(X), dtype=np.bool)\n",
      "/usr/local/anaconda3/lib/python3.7/site-packages/sklearn/model_selection/_split.py:113: DeprecationWarning: `np.bool` is a deprecated alias for the builtin `bool`. To silence this warning, use `bool` by itself. Doing this will not modify any behavior and is safe. If you specifically wanted the numpy scalar type, use `np.bool_` here.\n",
      "Deprecated in NumPy 1.20; for more details and guidance: https://numpy.org/devdocs/release/1.20.0-notes.html#deprecations\n",
      "  test_mask = np.zeros(_num_samples(X), dtype=np.bool)\n",
      "/usr/local/anaconda3/lib/python3.7/site-packages/sklearn/model_selection/_split.py:113: DeprecationWarning: `np.bool` is a deprecated alias for the builtin `bool`. To silence this warning, use `bool` by itself. Doing this will not modify any behavior and is safe. If you specifically wanted the numpy scalar type, use `np.bool_` here.\n",
      "Deprecated in NumPy 1.20; for more details and guidance: https://numpy.org/devdocs/release/1.20.0-notes.html#deprecations\n",
      "  test_mask = np.zeros(_num_samples(X), dtype=np.bool)\n",
      "/usr/local/anaconda3/lib/python3.7/site-packages/sklearn/model_selection/_split.py:113: DeprecationWarning: `np.bool` is a deprecated alias for the builtin `bool`. To silence this warning, use `bool` by itself. Doing this will not modify any behavior and is safe. If you specifically wanted the numpy scalar type, use `np.bool_` here.\n",
      "Deprecated in NumPy 1.20; for more details and guidance: https://numpy.org/devdocs/release/1.20.0-notes.html#deprecations\n",
      "  test_mask = np.zeros(_num_samples(X), dtype=np.bool)\n",
      "/usr/local/anaconda3/lib/python3.7/site-packages/sklearn/model_selection/_split.py:113: DeprecationWarning: `np.bool` is a deprecated alias for the builtin `bool`. To silence this warning, use `bool` by itself. Doing this will not modify any behavior and is safe. If you specifically wanted the numpy scalar type, use `np.bool_` here.\n",
      "Deprecated in NumPy 1.20; for more details and guidance: https://numpy.org/devdocs/release/1.20.0-notes.html#deprecations\n",
      "  test_mask = np.zeros(_num_samples(X), dtype=np.bool)\n"
     ]
    },
    {
     "name": "stdout",
     "output_type": "stream",
     "text": [
      "{'n_neighbors': 53, 'p': 2}\n",
      "0.8926494045740414\n"
     ]
    },
    {
     "name": "stderr",
     "output_type": "stream",
     "text": [
      "/usr/local/anaconda3/lib/python3.7/site-packages/sklearn/model_selection/_search.py:821: DeprecationWarning: `np.int` is a deprecated alias for the builtin `int`. To silence this warning, use `int` by itself. Doing this will not modify any behavior and is safe. When replacing `np.int`, you may wish to use e.g. `np.int64` or `np.int32` to specify the precision. If you wish to review your current use, check the release note link for additional information.\n",
      "Deprecated in NumPy 1.20; for more details and guidance: https://numpy.org/devdocs/release/1.20.0-notes.html#deprecations\n",
      "  dtype=np.int)\n"
     ]
    }
   ],
   "source": [
    "# a finer tuned list around 50\n",
    "K = [45,46,47,48,49,50,51,52,53,54,55,56,57,58,59,60,61,62,63,64,65]\n",
    "\n",
    "# test both, just in case\n",
    "P = [1,2]\n",
    "\n",
    "param_grid = [{\"n_neighbors\": K, \"p\":P}]\n",
    "\n",
    "KNN = KNeighborsRegressor()\n",
    "\n",
    "gs = GridSearchCV(KNN, param_grid, cv = 5)\n",
    "\n",
    "gs.fit(input_tr_norm, target_tr)\n",
    "\n",
    "print(gs.best_params_)\n",
    "print(gs.best_score_)"
   ]
  },
  {
   "cell_type": "markdown",
   "id": "0da42f5e",
   "metadata": {},
   "source": [
    "## Conclusion"
   ]
  },
  {
   "cell_type": "markdown",
   "id": "86e052c0",
   "metadata": {},
   "source": [
    "The optimal k was found to be 53 using l2 regularization. With these values the score is 0.89265, a VERY marginal improvement over the case of k = 50 which produces and score of 0.89261. \n",
    "\n",
    "Thus, as an extra conclusion, I find that the specific number of neighbours doesn't change much and in the future, using jumps of 5 or 10 in your gridsearch is probably OK."
   ]
  },
  {
   "cell_type": "code",
   "execution_count": null,
   "id": "a2c38763",
   "metadata": {},
   "outputs": [],
   "source": []
  }
 ],
 "metadata": {
  "kernelspec": {
   "display_name": "Python 3",
   "language": "python",
   "name": "python3"
  },
  "language_info": {
   "codemirror_mode": {
    "name": "ipython",
    "version": 3
   },
   "file_extension": ".py",
   "mimetype": "text/x-python",
   "name": "python",
   "nbconvert_exporter": "python",
   "pygments_lexer": "ipython3",
   "version": "3.7.3"
  }
 },
 "nbformat": 4,
 "nbformat_minor": 5
}
